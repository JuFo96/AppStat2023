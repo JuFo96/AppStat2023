{
 "cells": [
  {
   "cell_type": "markdown",
   "metadata": {},
   "source": [
    "### Script for reading data for Problem 4.1 (data_AnorocDisease.txt) in Applied Statistics 2023 problem set:\n",
    "\n",
    "This script reads the file __\"data_AnorocDisease.txt\"__ for Problem 4.1 in the problem set of Applied Statistics 2023/24. This data files contains 1000 entries in five columns: \n",
    "\n",
    "* **Patient ID** of patient (1-1000),\n",
    "* **Temperature** of patient (in Celcius),\n",
    "* **Blood Pressure** of patient,\n",
    "* **Age** of patient,\n",
    "* **Status** of patient (0: Healthy, 1: Ill, -1: Unknown).\n",
    "\n",
    "\n",
    "####  Author: \n",
    "- Troels Petersen (Niels Bohr Institute, petersen@nbi.dk)\n",
    "\n",
    "####  Date:   \n",
    " - 14th of October 2023 (latest version)"
   ]
  },
  {
   "cell_type": "code",
   "execution_count": 6,
   "metadata": {},
   "outputs": [],
   "source": [
    "import pandas as pd\n",
    "import numpy as np\n",
    "import matplotlib.pyplot as plt"
   ]
  },
  {
   "cell_type": "code",
   "execution_count": 7,
   "metadata": {},
   "outputs": [
    {
     "data": {
      "text/html": [
       "<div>\n",
       "<style scoped>\n",
       "    .dataframe tbody tr th:only-of-type {\n",
       "        vertical-align: middle;\n",
       "    }\n",
       "\n",
       "    .dataframe tbody tr th {\n",
       "        vertical-align: top;\n",
       "    }\n",
       "\n",
       "    .dataframe thead th {\n",
       "        text-align: right;\n",
       "    }\n",
       "</style>\n",
       "<table border=\"1\" class=\"dataframe\">\n",
       "  <thead>\n",
       "    <tr style=\"text-align: right;\">\n",
       "      <th></th>\n",
       "      <th>PatientID</th>\n",
       "      <th>Temp</th>\n",
       "      <th>BloodP</th>\n",
       "      <th>Age</th>\n",
       "      <th>Status (0: Healthy; 1: Ill; -1: Unknown)</th>\n",
       "    </tr>\n",
       "  </thead>\n",
       "  <tbody>\n",
       "    <tr>\n",
       "      <th>0</th>\n",
       "      <td>1.0</td>\n",
       "      <td>36.3</td>\n",
       "      <td>125.7</td>\n",
       "      <td>56.8</td>\n",
       "      <td>0.0</td>\n",
       "    </tr>\n",
       "    <tr>\n",
       "      <th>1</th>\n",
       "      <td>2.0</td>\n",
       "      <td>37.6</td>\n",
       "      <td>121.4</td>\n",
       "      <td>67.7</td>\n",
       "      <td>1.0</td>\n",
       "    </tr>\n",
       "    <tr>\n",
       "      <th>2</th>\n",
       "      <td>3.0</td>\n",
       "      <td>38.7</td>\n",
       "      <td>117.6</td>\n",
       "      <td>67.3</td>\n",
       "      <td>1.0</td>\n",
       "    </tr>\n",
       "    <tr>\n",
       "      <th>3</th>\n",
       "      <td>4.0</td>\n",
       "      <td>35.8</td>\n",
       "      <td>116.3</td>\n",
       "      <td>60.0</td>\n",
       "      <td>0.0</td>\n",
       "    </tr>\n",
       "    <tr>\n",
       "      <th>4</th>\n",
       "      <td>5.0</td>\n",
       "      <td>37.6</td>\n",
       "      <td>142.9</td>\n",
       "      <td>81.9</td>\n",
       "      <td>0.0</td>\n",
       "    </tr>\n",
       "    <tr>\n",
       "      <th>...</th>\n",
       "      <td>...</td>\n",
       "      <td>...</td>\n",
       "      <td>...</td>\n",
       "      <td>...</td>\n",
       "      <td>...</td>\n",
       "    </tr>\n",
       "    <tr>\n",
       "      <th>995</th>\n",
       "      <td>996.0</td>\n",
       "      <td>37.1</td>\n",
       "      <td>127.6</td>\n",
       "      <td>74.2</td>\n",
       "      <td>-1.0</td>\n",
       "    </tr>\n",
       "    <tr>\n",
       "      <th>996</th>\n",
       "      <td>997.0</td>\n",
       "      <td>36.9</td>\n",
       "      <td>123.7</td>\n",
       "      <td>47.1</td>\n",
       "      <td>-1.0</td>\n",
       "    </tr>\n",
       "    <tr>\n",
       "      <th>997</th>\n",
       "      <td>998.0</td>\n",
       "      <td>37.3</td>\n",
       "      <td>113.4</td>\n",
       "      <td>39.2</td>\n",
       "      <td>-1.0</td>\n",
       "    </tr>\n",
       "    <tr>\n",
       "      <th>998</th>\n",
       "      <td>999.0</td>\n",
       "      <td>37.0</td>\n",
       "      <td>129.3</td>\n",
       "      <td>68.3</td>\n",
       "      <td>-1.0</td>\n",
       "    </tr>\n",
       "    <tr>\n",
       "      <th>999</th>\n",
       "      <td>1000.0</td>\n",
       "      <td>35.6</td>\n",
       "      <td>117.6</td>\n",
       "      <td>44.9</td>\n",
       "      <td>-1.0</td>\n",
       "    </tr>\n",
       "  </tbody>\n",
       "</table>\n",
       "<p>1000 rows × 5 columns</p>\n",
       "</div>"
      ],
      "text/plain": [
       "     PatientID    Temp     BloodP     Age  \\\n",
       "0          1.0    36.3      125.7    56.8   \n",
       "1          2.0    37.6      121.4    67.7   \n",
       "2          3.0    38.7      117.6    67.3   \n",
       "3          4.0    35.8      116.3    60.0   \n",
       "4          5.0    37.6      142.9    81.9   \n",
       "..         ...     ...        ...     ...   \n",
       "995      996.0    37.1      127.6    74.2   \n",
       "996      997.0    36.9      123.7    47.1   \n",
       "997      998.0    37.3      113.4    39.2   \n",
       "998      999.0    37.0      129.3    68.3   \n",
       "999     1000.0    35.6      117.6    44.9   \n",
       "\n",
       "           Status (0: Healthy; 1: Ill; -1: Unknown)  \n",
       "0                                               0.0  \n",
       "1                                               1.0  \n",
       "2                                               1.0  \n",
       "3                                               0.0  \n",
       "4                                               0.0  \n",
       "..                                              ...  \n",
       "995                                            -1.0  \n",
       "996                                            -1.0  \n",
       "997                                            -1.0  \n",
       "998                                            -1.0  \n",
       "999                                            -1.0  \n",
       "\n",
       "[1000 rows x 5 columns]"
      ]
     },
     "execution_count": 7,
     "metadata": {},
     "output_type": "execute_result"
    }
   ],
   "source": [
    "dataframe = pd.read_csv('data_AnorocDisease.csv', header=0)\n",
    "PatientID, Temp, BloodP, Age, Status = dataframe.values.T\n",
    "dataframe"
   ]
  },
  {
   "cell_type": "markdown",
   "metadata": {},
   "source": [
    "Print the first 10 entries to check the content of the file:"
   ]
  },
  {
   "cell_type": "code",
   "execution_count": 8,
   "metadata": {},
   "outputs": [
    {
     "name": "stdout",
     "output_type": "stream",
     "text": [
      "  Patient    1:  Temp = 36.3 C    Blood Pres = 125.7   Age =  56.8   Status:  0\n",
      "  Patient    2:  Temp = 37.6 C    Blood Pres = 121.4   Age =  67.7   Status:  1\n",
      "  Patient    3:  Temp = 38.7 C    Blood Pres = 117.6   Age =  67.3   Status:  1\n",
      "  Patient    4:  Temp = 35.8 C    Blood Pres = 116.3   Age =  60.0   Status:  0\n",
      "  Patient    5:  Temp = 37.6 C    Blood Pres = 142.9   Age =  81.9   Status:  0\n",
      "  Patient    6:  Temp = 37.7 C    Blood Pres = 126.8   Age =  63.9   Status:  0\n",
      "  Patient    7:  Temp = 36.7 C    Blood Pres = 114.2   Age =  55.0   Status:  0\n",
      "  Patient    8:  Temp = 35.2 C    Blood Pres = 126.5   Age =  55.5   Status:  0\n",
      "  Patient    9:  Temp = 39.2 C    Blood Pres = 138.1   Age =  34.3   Status:  1\n",
      "  Patient   10:  Temp = 36.1 C    Blood Pres = 125.8   Age =  62.5   Status:  0\n"
     ]
    }
   ],
   "source": [
    "for i in range(10):\n",
    "    print(f\"  Patient {int(PatientID[i]):4d}:  Temp = {Temp[i]:4.1f} C    Blood Pres = {BloodP[i]:5.1f}   Age = {Age[i]:5.1f}   Status: {int(Status[i]):2d}\")"
   ]
  },
  {
   "cell_type": "code",
   "execution_count": 24,
   "metadata": {},
   "outputs": [
    {
     "data": {
      "text/plain": [
       "Text(0.5, 0, 'Temperature [C]')"
      ]
     },
     "execution_count": 24,
     "metadata": {},
     "output_type": "execute_result"
    },
    {
     "data": {
      "image/png": "[encoded data removed]",
      "text/plain": [
       "<Figure size 640x480 with 1 Axes>"
      ]
     },
     "metadata": {},
     "output_type": "display_data"
    }
   ],
   "source": [
    "df = dataframe\n",
    "healthy_data = df[Status == 0]\n",
    "sick_data = df[Status == 1]\n",
    "\n",
    "plt.hist(healthy_data.iloc[:, 1], bins=20,\n",
    "         edgecolor='black', alpha=0.7, label='Healthy')\n",
    "\n",
    "plt.hist(sick_data.iloc[:, 1], bins=20,\n",
    "         edgecolor='black', alpha=0.7, label='Sick')\n",
    "plt.legend()\n",
    "plt.title(\"Temperatures of healthy and sick population\")\n",
    "plt.ylabel(\"Count\")\n",
    "plt.xlabel(\"Temperature [C]\")"
   ]
  },
  {
   "cell_type": "code",
   "execution_count": 26,
   "metadata": {},
   "outputs": [],
   "source": [
    "from scipy.stats import ks_2samp"
   ]
  },
  {
   "cell_type": "code",
   "execution_count": 36,
   "metadata": {},
   "outputs": [
    {
     "data": {
      "text/plain": [
       "(0.1325, 0.0017621899205092087)"
      ]
     },
     "execution_count": 36,
     "metadata": {},
     "output_type": "execute_result"
    }
   ],
   "source": [
    "ks_statistic, ks_p_value = ks_2samp(healthy_data.iloc[:, 3], sick_data.iloc[:, 3])\n",
    "ks_statistic, ks_p_value"
   ]
  },
  {
   "cell_type": "code",
   "execution_count": 32,
   "metadata": {},
   "outputs": [
    {
     "data": {
      "text/plain": [
       "(0.1325, 0.0017621899205092087)"
      ]
     },
     "execution_count": 32,
     "metadata": {},
     "output_type": "execute_result"
    }
   ],
   "source": []
  },
  {
   "cell_type": "code",
   "execution_count": null,
   "metadata": {},
   "outputs": [],
   "source": []
  }
 ],
 "metadata": {
  "executable": "/usr/bin/env python",
  "kernelspec": {
   "display_name": "Python 3 (ipykernel)",
   "language": "python",
   "name": "python3"
  },
  "language_info": {
   "codemirror_mode": {
    "name": "ipython",
    "version": 3
   },
   "file_extension": ".py",
   "mimetype": "text/x-python",
   "name": "python",
   "nbconvert_exporter": "python",
   "pygments_lexer": "ipython3",
   "version": "3.9.13"
  },
  "main_language": "python"
 },
 "nbformat": 4,
 "nbformat_minor": 2
}
